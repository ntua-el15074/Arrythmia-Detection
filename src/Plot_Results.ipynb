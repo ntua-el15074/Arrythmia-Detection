{
 "cells": [
  {
   "cell_type": "code",
   "execution_count": 97,
   "id": "f2e8c2b7",
   "metadata": {},
   "outputs": [],
   "source": [
    "import pandas as pd\n",
    "import matplotlib.pyplot as plt\n",
    "import matplotlib\n",
    "matplotlib.use('Agg')\n",
    "import numpy as np"
   ]
  },
  {
   "cell_type": "code",
   "execution_count": 98,
   "id": "eb5296f6",
   "metadata": {},
   "outputs": [],
   "source": [
    "data = pd.read_csv('../Final/cnn_results_final.csv')\n",
    "loss_acc = pd.read_csv('../Final/loss_accuracy.csv')"
   ]
  },
  {
   "cell_type": "code",
   "execution_count": 99,
   "id": "ebfbedfa",
   "metadata": {},
   "outputs": [],
   "source": [
    "results = data.iloc[:,1:]"
   ]
  },
  {
   "cell_type": "code",
   "execution_count": 100,
   "id": "25279645",
   "metadata": {},
   "outputs": [],
   "source": [
    "crayons = ['skyblue', 'red', 'green', 'yellow', 'grey']\n",
    "offset = [2,3,4,5,6]\n",
    "width = 0.1\n",
    "x_axis = np.arange(len(data['Parameters'])) "
   ]
  },
  {
   "cell_type": "code",
   "execution_count": 101,
   "id": "cbc1f5a3",
   "metadata": {
    "scrolled": false
   },
   "outputs": [],
   "source": [
    "plt.figure(figsize=(14, 12))\n",
    "\n",
    "for index,column in enumerate(results.columns):\n",
    "\n",
    "    plt.barh(data['Parameters'], data[f\"{column}\"], color=crayons[index], height=0.5)\n",
    "    plt.xlabel('Test Results')\n",
    "    plt.ylabel('Parameters')\n",
    "    plt.title(f'CNN Model {column} Results, Average: {data[column].mean()}')\n",
    "    plt.xlim(min(data[f\"{column}\"]) - 0.01, max(data[f\"{column}\"]) + 0.01)\n",
    "\n",
    "    plt.savefig(f'../Final/{column}.png')"
   ]
  },
  {
   "cell_type": "code",
   "execution_count": 102,
   "id": "5962de3b",
   "metadata": {},
   "outputs": [],
   "source": [
    "plt.figure(figsize=(13, 14))\n",
    "\n",
    "for index, column in enumerate(results.columns):\n",
    "    plt.barh(x_axis - width*offset[index], data[f\"{column}\"], color=crayons[index], height=width, label=f'{column}, Average: {data[column].mean()}')\n",
    "\n",
    "plt.xlabel('Test Results')\n",
    "plt.ylabel('Parameters')\n",
    "plt.title('CNN Model Results')\n",
    "plt.yticks(x_axis - width*2,list(data['Parameters']))\n",
    "plt.legend(bbox_to_anchor=(0.7, 1.1), loc='upper left', borderaxespad=0)\n",
    "\n",
    "plt.savefig('../Final/combined_final.png')"
   ]
  },
  {
   "cell_type": "code",
   "execution_count": 103,
   "id": "fa356d28",
   "metadata": {},
   "outputs": [],
   "source": [
    "plt.figure(figsize=(13, 12))\n",
    "\n",
    "plt.subplot(1, 2, 1)\n",
    "plt.plot(range(len(loss_acc['Train_Loss'])), loss_acc['Train_Loss'], label=\"Train Loss\")\n",
    "plt.plot(range(len(loss_acc['Train_Loss'])), loss_acc['Validate_Loss'], label=\"Validate Loss\")\n",
    "plt.title(\"Loss\")\n",
    "plt.xlabel(\"Epochs\")\n",
    "plt.legend()\n",
    "\n",
    "plt.subplot(1, 2, 2)\n",
    "plt.plot(range(len(loss_acc['Train_Loss'])), loss_acc['Train_Accuracy'], label=\"Train Accuracy\")\n",
    "plt.plot(range(len(loss_acc['Train_Loss'])), loss_acc['Validate_Accuracy'], label=\"Validate Accuracy\")\n",
    "plt.title(\"Accuracy\")\n",
    "plt.xlabel(\"Epochs\")\n",
    "plt.legend()\n",
    "\n",
    "plt.savefig('../Final/loss_acc.png')"
   ]
  }
 ],
 "metadata": {
  "kernelspec": {
   "display_name": "Python 3 (ipykernel)",
   "language": "python",
   "name": "python3"
  },
  "language_info": {
   "codemirror_mode": {
    "name": "ipython",
    "version": 3
   },
   "file_extension": ".py",
   "mimetype": "text/x-python",
   "name": "python",
   "nbconvert_exporter": "python",
   "pygments_lexer": "ipython3",
   "version": "3.9.13"
  }
 },
 "nbformat": 4,
 "nbformat_minor": 5
}
